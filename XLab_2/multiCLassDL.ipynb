{
 "cells": [
  {
   "cell_type": "code",
   "execution_count": 302,
   "metadata": {},
   "outputs": [],
   "source": [
    "# Importing all the necessary libraries \n",
    "import numpy as np\n",
    "import matplotlib.pyplot as plt\n",
    "import h5py\n",
    "import scipy\n",
    "from PIL import Image\n",
    "from scipy import ndimage\n",
    "\n",
    "%matplotlib inline"
   ]
  },
  {
   "cell_type": "code",
   "execution_count": 303,
   "metadata": {},
   "outputs": [
    {
     "name": "stdout",
     "output_type": "stream",
     "text": [
      "Train.h5 keys: ['images', 'labels']\n",
      "Test.h5 keys: ['images', 'labels']\n"
     ]
    }
   ],
   "source": [
    "# Finding the keys in the train and test .h5 file to name the label and feature\n",
    "\n",
    "# Inspect the Train.h5 file\n",
    "with h5py.File('dataset/Tr.h5', \"r\") as train_dataset:\n",
    "    print(\"Train.h5 keys:\", list(train_dataset.keys()))\n",
    "\n",
    "# Inspect the Test.h5 file\n",
    "with h5py.File('dataset/Te.h5', \"r\") as test_dataset:\n",
    "    print(\"Test.h5 keys:\", list(test_dataset.keys()))"
   ]
  },
  {
   "cell_type": "code",
   "execution_count": 304,
   "metadata": {},
   "outputs": [],
   "source": [
    "import numpy as np\n",
    "import h5py\n",
    "import matplotlib.pyplot as plt\n",
    "\n",
    "def load_dataset():\n",
    "    train_dataset = h5py.File('dataset/Tr.h5', \"r\")\n",
    "    train_set_x_orig = np.array(train_dataset[\"images\"][:])  # your train set features\n",
    "    train_set_y_orig = np.array(train_dataset[\"labels\"][:])  # your train set labels\n",
    "\n",
    "    test_dataset = h5py.File('dataset/Te.h5', \"r\")\n",
    "    test_set_x_orig = np.array(test_dataset[\"images\"][:])  # your test set features\n",
    "    test_set_y_orig = np.array(test_dataset[\"labels\"][:])  # your test set labels\n",
    "\n",
    "    return train_set_x_orig, train_set_y_orig, test_set_x_orig, test_set_y_orig\n",
    "\n"
   ]
  },
  {
   "cell_type": "code",
   "execution_count": 305,
   "metadata": {},
   "outputs": [],
   "source": [
    "# Using the loaded dataset \n",
    "train_x, train_y, test_x, test_y = load_dataset()\n"
   ]
  },
  {
   "cell_type": "code",
   "execution_count": 306,
   "metadata": {},
   "outputs": [
    {
     "name": "stdout",
     "output_type": "stream",
     "text": [
      "Training data shape: (250, 128, 128, 3)\n",
      "Training labels shape: (250,)\n",
      "Test data shape: (50, 128, 128, 3)\n",
      "Test labels shape: (50,)\n"
     ]
    }
   ],
   "source": [
    "# Dimensions of the train and test dataset \n",
    "print(f\"Training data shape: {train_x.shape}\")\n",
    "print(f\"Training labels shape: {train_y.shape}\")\n",
    "print(f\"Test data shape: {test_x.shape}\")\n",
    "print(f\"Test labels shape: {test_y.shape}\")"
   ]
  },
  {
   "cell_type": "code",
   "execution_count": 307,
   "metadata": {},
   "outputs": [],
   "source": [
    "def preprocess_data(X, Y, num_classes):\n",
    "    X = X / 255.0  # Normalize pixel values\n",
    "    Y = np.eye(num_classes)[Y.reshape(-1)]  # One-hot encoding\n",
    "    return X, Y\n",
    "\n",
    "train_set_x_orig, train_set_y_orig, test_set_x_orig, test_set_y_orig = load_dataset()\n",
    "\n",
    "# Preprocess the data\n",
    "num_classes = 5\n",
    "train_x, train_y = preprocess_data(train_set_x_orig, train_set_y_orig, num_classes)\n",
    "test_x, test_y = preprocess_data(test_set_x_orig, test_set_y_orig, num_classes)\n",
    "\n",
    "# Flatten the data\n",
    "train_x = train_x.reshape(train_x.shape[0], -1).T\n",
    "test_x = test_x.reshape(test_x.shape[0], -1).T\n",
    "train_y = train_y.reshape(train_y.shape[0], -1)\n",
    "test_y = test_y.reshape(test_y.shape[0], -1)\n"
   ]
  },
  {
   "cell_type": "code",
   "execution_count": 308,
   "metadata": {},
   "outputs": [
    {
     "name": "stdout",
     "output_type": "stream",
     "text": [
      "Min and Max of X_train: 0.0 1.0\n",
      "Min and Max of X_test: 0.0 1.0\n"
     ]
    }
   ],
   "source": [
    "print(\"Min and Max of X_train:\", train_x.min(), train_x.max())\n",
    "print(\"Min and Max of X_test:\", test_x.min(), test_x.max())"
   ]
  },
  {
   "cell_type": "code",
   "execution_count": 309,
   "metadata": {},
   "outputs": [
    {
     "name": "stdout",
     "output_type": "stream",
     "text": [
      "Training data shape: (49152, 250)\n",
      "Training labels shape: (250, 5)\n",
      "Test data shape: (49152, 50)\n",
      "Test labels shape: (50, 5)\n"
     ]
    }
   ],
   "source": [
    "# Dimensions of the train and test dataset \n",
    "print(f\"Training data shape: {train_x.shape}\")\n",
    "print(f\"Training labels shape: {train_y.shape}\")\n",
    "print(f\"Test data shape: {test_x.shape}\")\n",
    "print(f\"Test labels shape: {test_y.shape}\")"
   ]
  },
  {
   "cell_type": "code",
   "execution_count": 310,
   "metadata": {},
   "outputs": [],
   "source": [
    "# Initialize parameters for the network\n",
    "def initialize_parameters(layer_dims):\n",
    "    np.random.seed(1)\n",
    "    parameters = {}\n",
    "    L = len(layer_dims)\n",
    "\n",
    "    for l in range(1, L):\n",
    "        parameters['W' + str(l)] = np.random.randn(layer_dims[l], layer_dims[l - 1]) * 0.01\n",
    "        parameters['b' + str(l)] = np.zeros((layer_dims[l], 1))\n",
    "\n",
    "    return parameters\n"
   ]
  },
  {
   "cell_type": "code",
   "execution_count": 311,
   "metadata": {},
   "outputs": [],
   "source": [
    "# Softmax activation for multi-class classification\n",
    "def softmax(Z):\n",
    "    expZ = np.exp(Z - np.max(Z, axis=0, keepdims=True))  # Stability improvement\n",
    "    return expZ / np.sum(expZ, axis=0, keepdims=True)\n"
   ]
  },
  {
   "cell_type": "code",
   "execution_count": 312,
   "metadata": {},
   "outputs": [],
   "source": [
    "# Forward propogation\n",
    "\n",
    "def linear_forward(A, W, b):\n",
    "    Z = np.dot(W, A) + b\n",
    "    return Z\n",
    "     \n",
    "def linear_activation_forward(A_prev, W, b, activation):\n",
    "    Z = linear_forward(A_prev, W, b)\n",
    "    if activation == \"relu\":\n",
    "        A = np.maximum(0, Z)\n",
    "    elif activation == \"softmax\":\n",
    "        A = softmax(Z)\n",
    "    return A, Z\n",
    "\n",
    "def forward_propagation(X, parameters):\n",
    "    caches = []\n",
    "    A = X\n",
    "    L = len(parameters) // 2\n",
    "\n",
    "    for l in range(1, L):\n",
    "        A_prev = A\n",
    "        A, Z = linear_activation_forward(A_prev, parameters['W' + str(l)], parameters['b' + str(l)], \"relu\")\n",
    "        caches.append((A_prev, parameters['W' + str(l)], parameters['b' + str(l)], Z))\n",
    "    \n",
    "    AL, ZL = linear_activation_forward(A, parameters['W' + str(L)], parameters['b' + str(L)], \"softmax\")\n",
    "    caches.append((A, parameters['W' + str(L)], parameters['b' + str(L)], ZL))\n",
    "      \n",
    "    return AL, caches\n",
    "    "
   ]
  },
  {
   "cell_type": "code",
   "execution_count": 313,
   "metadata": {},
   "outputs": [],
   "source": [
    "# Cost Function ( Cross Entropy )\n",
    "def compute_cost(AL, Y):\n",
    "    m = Y.shape[1]\n",
    "    cost = -1/m * np.sum(Y * np.log(AL))\n",
    "    return np.squeeze(cost)"
   ]
  },
  {
   "cell_type": "code",
   "execution_count": 314,
   "metadata": {},
   "outputs": [],
   "source": [
    "def linear_backward(dZ, A_prev, W, b):\n",
    "    m = A_prev.shape[1]\n",
    "    dW = np.dot(dZ, A_prev.T) / m\n",
    "    db = np.sum(dZ, axis=1, keepdims=True) / m\n",
    "    dA_prev = np.dot(W.T, dZ)\n",
    "    return dA_prev, dW, db\n",
    "\n",
    "def linear_activation_backward(dA, cache, activation):\n",
    "    A_prev, W, b, Z = cache\n",
    "    \n",
    "    if activation == \"relu\":\n",
    "        dZ = np.array(dA, copy=True)\n",
    "        dZ[Z <= 0] = 0\n",
    "    elif activation == \"softmax\":\n",
    "        dZ = dA\n",
    "    \n",
    "    dA_prev, dW, db = linear_backward(dZ, A_prev, W, b)\n",
    "    return dA_prev, dW, db\n",
    "\n",
    "def backward_propagation(AL, Y, caches):\n",
    "    grads = {}\n",
    "    L = len(caches)\n",
    "    m = AL.shape[1]\n",
    "    \n",
    "    dAL = AL - Y\n",
    "    \n",
    "    current_cache = caches[-1]\n",
    "    grads[\"dA\" + str(L)], grads[\"dW\" + str(L)], grads[\"db\" + str(L)] = linear_activation_backward(dAL, current_cache, \"softmax\")\n",
    "    \n",
    "    for l in reversed(range(L-1)):\n",
    "        current_cache = caches[l]\n",
    "        dA_prev_temp, dW_temp, db_temp = linear_activation_backward(grads[\"dA\" + str(l+2)], current_cache, \"relu\")\n",
    "        grads[\"dA\" + str(l+1)] = dA_prev_temp\n",
    "        grads[\"dW\" + str(l+1)] = dW_temp\n",
    "        grads[\"db\" + str(l+1)] = db_temp\n",
    "    \n",
    "    return grads"
   ]
  },
  {
   "cell_type": "code",
   "execution_count": 315,
   "metadata": {},
   "outputs": [],
   "source": [
    "# Parameter updation \n",
    "def update_parameters(parameters, grads, learning_rate):\n",
    "    L = len(parameters) // 2\n",
    "    \n",
    "    for l in range(L):\n",
    "        parameters[\"W\" + str(l+1)] -= learning_rate * grads[\"dW\" + str(l+1)]\n",
    "        parameters[\"b\" + str(l+1)] -= learning_rate * grads[\"db\" + str(l+1)]\n",
    "    \n",
    "    return parameters"
   ]
  },
  {
   "cell_type": "code",
   "execution_count": 316,
   "metadata": {},
   "outputs": [],
   "source": [
    "# Define the architecture (example 3 hidden layers)\n",
    "layers_dims = [128 *128 * 3, 32, 8,5]"
   ]
  },
  {
   "cell_type": "code",
   "execution_count": 317,
   "metadata": {},
   "outputs": [],
   "source": [
    "# Model training\n",
    "def model(X, Y, layers_dims, learning_rate=0.0075, num_iterations=3000, print_cost=False):\n",
    "    np.random.seed(1)\n",
    "    costs = []\n",
    "    parameters = initialize_parameters(layers_dims)\n",
    "\n",
    "    for i in range(num_iterations):\n",
    "        # Forward propagation\n",
    "        AL, caches = forward_propagation(X, parameters)\n",
    "        \n",
    "        # Compute cost\n",
    "        cost = compute_cost(AL, Y)\n",
    "        \n",
    "        # Backward propagation\n",
    "        grads = backward_propagation(AL, Y, caches)\n",
    "        \n",
    "        # Update parameters\n",
    "        parameters = update_parameters(parameters, grads, learning_rate)\n",
    "\n",
    "        if print_cost and i % 100 == 0:\n",
    "            costs.append(cost)\n",
    "            print(f\"Cost after iteration {i}: {cost}\")\n",
    "\n",
    "    plt.plot(np.squeeze(costs))\n",
    "    plt.ylabel('Cost')\n",
    "    plt.xlabel('Iterations (per hundreds)')\n",
    "    plt.title(f\"Learning rate = {learning_rate}\")\n",
    "    plt.show()\n",
    "\n",
    "    return parameters"
   ]
  },
  {
   "cell_type": "code",
   "execution_count": 318,
   "metadata": {},
   "outputs": [
    {
     "name": "stdout",
     "output_type": "stream",
     "text": [
      "(49152, 250)\n",
      "(49152, 50)\n",
      "(250, 5)\n",
      "(50, 5)\n"
     ]
    }
   ],
   "source": [
    "print(train_x.shape)\n",
    "print(test_x.shape)\n",
    "print(train_y.shape)\n",
    "print(test_y.shape)"
   ]
  },
  {
   "cell_type": "code",
   "execution_count": 319,
   "metadata": {},
   "outputs": [
    {
     "name": "stdout",
     "output_type": "stream",
     "text": [
      "Cost after iteration 0: 1.6094990845452193\n",
      "Cost after iteration 100: 1.6093818799254325\n",
      "Cost after iteration 200: 1.6092906216046896\n",
      "Cost after iteration 300: 1.60915569754078\n",
      "Cost after iteration 400: 1.6089196479693837\n",
      "Cost after iteration 500: 1.6084352413686578\n",
      "Cost after iteration 600: 1.6072270342555834\n",
      "Cost after iteration 700: 1.6033242157286531\n",
      "Cost after iteration 800: 1.5869577626021663\n",
      "Cost after iteration 900: 1.5403265274439253\n",
      "Cost after iteration 1000: 1.4803761189367817\n",
      "Cost after iteration 1100: 1.3439250425457354\n",
      "Cost after iteration 1200: 1.2720243273571257\n",
      "Cost after iteration 1300: 1.1394547987726646\n",
      "Cost after iteration 1400: 0.9233816777381415\n",
      "Cost after iteration 1500: 0.6783120027147563\n",
      "Cost after iteration 1600: 0.5297768818527508\n",
      "Cost after iteration 1700: 0.4674534133951763\n",
      "Cost after iteration 1800: 0.8664257429153065\n",
      "Cost after iteration 1900: 0.19155359696321053\n"
     ]
    },
    {
     "data": {
      "image/png": "[encoded data removed]",
      "text/plain": [
       "<Figure size 640x480 with 1 Axes>"
      ]
     },
     "metadata": {},
     "output_type": "display_data"
    }
   ],
   "source": [
    "parameters = model(train_x, train_y.T, layers_dims,  learning_rate=0.01, num_iterations=2000, print_cost=True)\n"
   ]
  },
  {
   "cell_type": "code",
   "execution_count": 361,
   "metadata": {},
   "outputs": [],
   "source": [
    "# Model predicion \n",
    "def predict(X, parameters):\n",
    "    AL, _ = forward_propagation(X, parameters)\n",
    "    print(f\"AL shape: {AL.shape}\") \n",
    "    predictions = np.argmax(AL, axis=0)\n",
    "\n",
    "    return predictions"
   ]
  },
  {
   "cell_type": "code",
   "execution_count": 358,
   "metadata": {},
   "outputs": [
    {
     "name": "stdout",
     "output_type": "stream",
     "text": [
      "AL shape: (5, 50)\n",
      "Class indices shape: (50,)\n",
      "One-hot encoded predictions shape: (50, 5)\n",
      "Transposed one-hot predictions shape: (5, 50)\n"
     ]
    }
   ],
   "source": [
    "def predict(X, parameters):\n",
    "    # Forward propagation to get predicted probabilities\n",
    "    AL, _ = forward_propagation(X, parameters)  # AL should have shape (5, 50)\n",
    "    \n",
    "    # AL contains class probabilities, so no need to reshape or change AL here\n",
    "    return AL\n",
    "\n",
    "# Predictions on the test set\n",
    "Y_pred = predict(test_x, parameters)  # Y_pred should have shape (5, 50)\n",
    "\n",
    "# Print the shape to verify\n",
    "print(\"AL shape:\", Y_pred.shape)\n",
    "\n",
    "# You should not need to preprocess Y_pred further unless you want to turn it into class indices or one-hot encoding.\n",
    "# If you do want class predictions, you can convert them to one-hot encoding as follows:\n",
    "Y_pred_class_indices = np.argmax(Y_pred, axis=0)  # This will give you a (50,) vector of predicted class indices\n",
    "print(\"Class indices shape:\", Y_pred_class_indices.shape)  # Output: (50,)\n",
    "\n",
    "# If you need one-hot encoded predictions (shape (50, 5)):\n",
    "Y_pred_one_hot = np.eye(5)[Y_pred_class_indices]  # This will give (50, 5), with one-hot encoded predictions\n",
    "print(\"One-hot encoded predictions shape:\", Y_pred_one_hot.shape)  # Output: (50, 5)\n",
    "\n",
    "# If you want to transpose it back to (5, 50), you can do:\n",
    "Y_pred_one_hot = Y_pred_one_hot.T\n",
    "print(\"Transposed one-hot predictions shape:\", Y_pred_one_hot.shape)  # Output: (5, 50)"
   ]
  },
  {
   "cell_type": "code",
   "execution_count": 348,
   "metadata": {},
   "outputs": [
    {
     "name": "stdout",
     "output_type": "stream",
     "text": [
      "AL shape: (5, 250)\n",
      "AL shape: (5, 50)\n",
      "Train Accuracy: 99.2%\n",
      "Test Accuracy: 44.0%\n"
     ]
    }
   ],
   "source": [
    "train_pred = predict(train_x, parameters)\n",
    "test_pred = predict(test_x, parameters)\n",
    "\n",
    "train_accuracy = np.mean(train_pred == np.argmax(train_y, axis=1)) * 100\n",
    "test_accuracy = np.mean(test_pred == np.argmax(test_y, axis=1)) * 100\n",
    "\n",
    "print(f\"Train Accuracy: {train_accuracy}%\")\n",
    "print(f\"Test Accuracy: {test_accuracy}%\")"
   ]
  },
  {
   "cell_type": "code",
   "execution_count": 398,
   "metadata": {},
   "outputs": [
    {
     "name": "stdout",
     "output_type": "stream",
     "text": [
      "AL shape: (5, 50)\n",
      "One-hot encoded predictions shape: (5, 50)\n"
     ]
    }
   ],
   "source": [
    "# Predictions on test set\n",
    "Y_pred = predict(test_x, parameters)\n",
    "\n",
    "Y_pred = np.eye(5)[Y_pred_class_indices]  # This will give (50, 5), with one-hot encoded predictions\n",
    "Y_pred = Y_pred.T \n",
    "print(\"One-hot encoded predictions shape:\", Y_pred.shape)\n",
    "\n",
    "\n",
    "\n"
   ]
  },
  {
   "cell_type": "code",
   "execution_count": 403,
   "metadata": {},
   "outputs": [],
   "source": [
    "# Metrics: accuracy, precision, and recall\n",
    "def compute_metrics(Y_pred, Y_true):\n",
    "    accuracy = np.mean(Y_pred== Y_true)\n",
    "    \n",
    "    precision = np.sum((Y_pred == Y_true) & (Y_true == 1)) / np.sum(Y_pred == 1)\n",
    "    recall = np.sum((Y_pred == Y_true) & (Y_true == 1)) / np.sum(Y_true == 1)\n",
    "    \n",
    "    return accuracy, precision, recall"
   ]
  },
  {
   "cell_type": "code",
   "execution_count": 404,
   "metadata": {},
   "outputs": [
    {
     "name": "stdout",
     "output_type": "stream",
     "text": [
      "(5, 50)\n",
      "(50, 5)\n"
     ]
    }
   ],
   "source": [
    "print(Y_pred.shape)\n",
    "print(test_y.shape)"
   ]
  },
  {
   "cell_type": "code",
   "execution_count": 405,
   "metadata": {},
   "outputs": [
    {
     "name": "stdout",
     "output_type": "stream",
     "text": [
      "Accuracy: 77.60000000000001%\n",
      "Precision: 44.0%\n",
      "Recall: 44.0%\n"
     ]
    }
   ],
   "source": [
    "# Compute metrics\n",
    "accuracy, precision, recall = compute_metrics(Y_pred, test_y.T)\n",
    "\n",
    "print(f\"Accuracy: {accuracy * 100}%\")\n",
    "print(f\"Precision: {precision * 100}%\")\n",
    "print(f\"Recall: {recall * 100}%\")"
   ]
  }
 ],
 "metadata": {
  "kernelspec": {
   "display_name": "Python 3",
   "language": "python",
   "name": "python3"
  },
  "language_info": {
   "codemirror_mode": {
    "name": "ipython",
    "version": 3
   },
   "file_extension": ".py",
   "mimetype": "text/x-python",
   "name": "python",
   "nbconvert_exporter": "python",
   "pygments_lexer": "ipython3",
   "version": "3.12.4"
  }
 },
 "nbformat": 4,
 "nbformat_minor": 2
}
